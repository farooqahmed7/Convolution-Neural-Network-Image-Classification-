{
 "cells": [
  {
   "cell_type": "markdown",
   "metadata": {},
   "source": [
    "# Convolutional Neural Network.\n",
    "\n",
    "## Image Recognition (Binary)."
   ]
  },
  {
   "cell_type": "markdown",
   "metadata": {},
   "source": [
    "#### Importing the Libraries."
   ]
  },
  {
   "cell_type": "code",
   "execution_count": 1,
   "metadata": {},
   "outputs": [],
   "source": [
    "import numpy as np\n",
    "import pandas as pd\n",
    "import matplotlib.pyplot as plt\n",
    "import seaborn as sb\n",
    "\n",
    "pd.options.display.max_columns=30\n",
    "pd.options.display.max_rows=100"
   ]
  },
  {
   "cell_type": "code",
   "execution_count": 2,
   "metadata": {},
   "outputs": [
    {
     "name": "stderr",
     "output_type": "stream",
     "text": [
      "Using TensorFlow backend.\n"
     ]
    }
   ],
   "source": [
    "import tensorflow as tf\n",
    "#import keras as ks\n",
    "\n",
    "from keras.preprocessing.image import ImageDataGenerator\n",
    "# This is helpful for preprocessing of images."
   ]
  },
  {
   "cell_type": "code",
   "execution_count": 3,
   "metadata": {},
   "outputs": [
    {
     "data": {
      "text/plain": [
       "'1.15.0'"
      ]
     },
     "execution_count": 3,
     "metadata": {},
     "output_type": "execute_result"
    }
   ],
   "source": [
    "# To check version of tensorflow.\n",
    "tf.__version__"
   ]
  },
  {
   "cell_type": "markdown",
   "metadata": {},
   "source": [
    "## Part-1 Data Preprocessing."
   ]
  },
  {
   "cell_type": "markdown",
   "metadata": {},
   "source": [
    "### Preprocessing of Training set."
   ]
  },
  {
   "cell_type": "code",
   "execution_count": 4,
   "metadata": {},
   "outputs": [],
   "source": [
    "# Applying different \"Transformations\" or combinations for images to avoid 'Overfitting'. We us geometrical transformations or some zooms or some rotations on our images like 'Image Augmentation'.\n",
    "# Image Augmentation helps in transforming the images of our training to avoid overfitting.\n",
    "# It creates an object/instance as 'train_datagen' of \"Image Data Generator\" class which represents the tool which applies all the transformations on the images of the training set. \n",
    "# It's capturing 'INVARIANCE' by creating more images.\n",
    "\n",
    "train_datagen = ImageDataGenerator(rescale=1./255, shear_range=0.2, zoom_range=0.2, horizontal_flip=True)\n",
    "\n",
    "# Rescale: This is feature scaling of our each and every single one of our pixels by dividing thier value with 255.Because each pixel takes a value in between 0 & 255.\n",
    "# With this we get all the pixel values in between 0 & 1 as Normalization. Feature Scaling is very important for 'Neural Networks'.\n",
    "# Zoom range: Zooming in or zooming out on the images.\n",
    "# Horizontal flip: It consists of flipping of images horizontally.\n",
    "# Shear range: Its type of transaction."
   ]
  },
  {
   "cell_type": "code",
   "execution_count": 5,
   "metadata": {},
   "outputs": [
    {
     "name": "stdout",
     "output_type": "stream",
     "text": [
      "Found 8000 images belonging to 2 classes.\n"
     ]
    }
   ],
   "source": [
    "# Importing training set by accessing it from directory and at the same time creating these batches and resizing the images, to reduce the computations of the machines i.e to make it less  compute intensive.\n",
    "# Flow_From_Directory: To access the training set from our directory.\n",
    "\n",
    "train_set = train_datagen.flow_from_directory('training_set', target_size=(64, 64), batch_size=32, class_mode='binary')\n",
    "\n",
    "# Target_size: Final size of the images when we feed into the CNN. If we increase this the training time also increases.\n",
    "# Batch size: Number of images we need in each batch. Default is 32.\n",
    "# Class_mode: This specifies whether the target is binary('cat' or 'dog') or non-binary."
   ]
  },
  {
   "cell_type": "markdown",
   "metadata": {},
   "source": [
    "### Preprocessing the Test set."
   ]
  },
  {
   "cell_type": "code",
   "execution_count": 6,
   "metadata": {},
   "outputs": [
    {
     "name": "stdout",
     "output_type": "stream",
     "text": [
      "Found 2000 images belonging to 2 classes.\n"
     ]
    }
   ],
   "source": [
    "test_datagen = ImageDataGenerator(rescale=1./255) \n",
    "# Here in 'ImageDataGenerator' we are not adding any arguments or transformations since its the test data. Therefore we just rescale it and keep it in original state.\n",
    "\n",
    "test_set = test_datagen.flow_from_directory('test_set', target_size=(64,64), batch_size=32, class_mode='binary') # Same as training set.\n"
   ]
  },
  {
   "cell_type": "markdown",
   "metadata": {},
   "source": [
    "##  Part-2 Building the CNN."
   ]
  },
  {
   "cell_type": "code",
   "execution_count": 7,
   "metadata": {},
   "outputs": [],
   "source": [
    "# Initializing the CNN by creating a variable using Sequential class.\n",
    "\n",
    "cnn=tf.keras.models.Sequential()"
   ]
  },
  {
   "cell_type": "markdown",
   "metadata": {},
   "source": [
    "#### Step-1 Convolution."
   ]
  },
  {
   "cell_type": "code",
   "execution_count": 8,
   "metadata": {
    "scrolled": true
   },
   "outputs": [
    {
     "name": "stdout",
     "output_type": "stream",
     "text": [
      "WARNING:tensorflow:From C:\\ProgramData\\Anaconda3\\lib\\site-packages\\tensorflow_core\\python\\ops\\resource_variable_ops.py:1630: calling BaseResourceVariable.__init__ (from tensorflow.python.ops.resource_variable_ops) with constraint is deprecated and will be removed in a future version.\n",
      "Instructions for updating:\n",
      "If using Keras pass *_constraint arguments to layers.\n"
     ]
    }
   ],
   "source": [
    "# Convolution with add method.\n",
    "# Adding feature detector or kernal or filter to the convolution.\n",
    "# Convolution Layer is an object of 'Conv2D' class, an dense class which allows to bulid the fully connected layer.\n",
    "\n",
    "cnn.add(tf.keras.layers.Conv2D(filters=32, kernel_size=3, activation='relu', input_shape=[64,64,3])) \n",
    "\n",
    "# Filters(kernals): Number of feature detectors required to apply for our images.\n",
    "# Kernal_size: This is the size of that feature detector i.e the number of rows and number of columns.\n",
    "# Input shape: Since we are using color images i.e RGB color and we reshaped it into 64,64;therefore we have to use [64,64,3]. 3 is used for RGB and 1 is used for Black & white.\n",
    "# Input_shape is only given for the first layer of CNN."
   ]
  },
  {
   "cell_type": "markdown",
   "metadata": {},
   "source": [
    "#### Step-2 Pooling."
   ]
  },
  {
   "cell_type": "code",
   "execution_count": 9,
   "metadata": {},
   "outputs": [],
   "source": [
    "# Adding Max_Pooling layer to our CNN.\n",
    "# using MaxPool2D class.\n",
    "# Pool_size: 2 is used i.e 2X2 Matrix.\n",
    "# Strides: Sliding 2X2 pixels i.e to what number of pixels is the frame is shifted.\n",
    "# Padding: With padding =valid; we just ignore last 2 cells of empty matrix during strides.With Padding it does'nt give much effect on the model. \n",
    "\n",
    "cnn.add(tf.keras.layers.MaxPool2D(pool_size=2, strides=2))"
   ]
  },
  {
   "cell_type": "markdown",
   "metadata": {},
   "source": [
    "### Adding 2nd Convolution Layer."
   ]
  },
  {
   "cell_type": "code",
   "execution_count": 10,
   "metadata": {},
   "outputs": [],
   "source": [
    "cnn.add(tf.keras.layers.Conv2D(filters=32, kernel_size=3, activation='relu'))\n",
    "# Remove 'input_shape' because we are adding 2nd Conv Layer. \n",
    "\n",
    "cnn.add(tf.keras.layers.MaxPool2D(pool_size=2, strides=2))\n"
   ]
  },
  {
   "cell_type": "markdown",
   "metadata": {},
   "source": [
    "#### Step-3 Flattening."
   ]
  },
  {
   "cell_type": "code",
   "execution_count": 11,
   "metadata": {},
   "outputs": [],
   "source": [
    "# Result of convolution and pooling is flattened.\n",
    "\n",
    "cnn.add(tf.keras.layers.Flatten())"
   ]
  },
  {
   "cell_type": "markdown",
   "metadata": {},
   "source": [
    "#### Step-4 Full Connection."
   ]
  },
  {
   "cell_type": "code",
   "execution_count": 12,
   "metadata": {},
   "outputs": [],
   "source": [
    "\n",
    "cnn.add(tf.keras.layers.Dense(units=128, activation='relu',))\n",
    "\n",
    "# Units: No of Hidden Neurons in the fully connected layer.\n",
    "# We took large number of neurons since its complex problem."
   ]
  },
  {
   "cell_type": "markdown",
   "metadata": {},
   "source": [
    "#### Step-5 Output Layer."
   ]
  },
  {
   "cell_type": "code",
   "execution_count": 13,
   "metadata": {},
   "outputs": [],
   "source": [
    "cnn.add(tf.keras.layers.Dense(units=1, activation='sigmoid'))\n",
    "\n",
    "# Units will be 1 i.e Binary classification Prediction\n",
    "# Activation function will be 'sigmoid' for output layer."
   ]
  },
  {
   "cell_type": "markdown",
   "metadata": {},
   "source": [
    "\n",
    "## Part-3 Training the CNN."
   ]
  },
  {
   "cell_type": "markdown",
   "metadata": {},
   "source": [
    "#### Compiling the CNN."
   ]
  },
  {
   "cell_type": "code",
   "execution_count": 14,
   "metadata": {},
   "outputs": [
    {
     "name": "stdout",
     "output_type": "stream",
     "text": [
      "WARNING:tensorflow:From C:\\ProgramData\\Anaconda3\\lib\\site-packages\\tensorflow_core\\python\\ops\\nn_impl.py:183: where (from tensorflow.python.ops.array_ops) is deprecated and will be removed in a future version.\n",
      "Instructions for updating:\n",
      "Use tf.where in 2.0, which has the same broadcast rule as np.where\n"
     ]
    }
   ],
   "source": [
    "# Compile is the method which takes as inputs.\n",
    "cnn.compile(optimizer='adam', loss='binary_crossentropy', metrics=['accuracy'])\n",
    "\n",
    "# In complier we have to enter 3 parameters i.e 1.Optimizer,  2.Loss Function and 3.Metrics. \n",
    "\n",
    "# Adam Optimizer: To get Stochastic Optimizer, Optimizer updates the weights through 'Stochastic Gradient Descent'.\n",
    "# Loss function: For Binary classification it should be 'binary_ crossentropy' and for non-binary it should be 'categorical_crossentropy'\n",
    "# Metrics: 'Accuracy' "
   ]
  },
  {
   "cell_type": "markdown",
   "metadata": {},
   "source": [
    "#### Training the CNN on the 'train_set' and evaluating it on the 'test_set'\n"
   ]
  },
  {
   "cell_type": "code",
   "execution_count": 15,
   "metadata": {
    "scrolled": false
   },
   "outputs": [
    {
     "name": "stdout",
     "output_type": "stream",
     "text": [
      "Epoch 1/25\n",
      "249/250 [============================>.] - ETA: 0s - loss: 0.6523 - acc: 0.6098Epoch 1/25\n",
      "250/250 [==============================] - 203s 814ms/step - loss: 0.6520 - acc: 0.6101 - val_loss: 0.6163 - val_acc: 0.6490\n",
      "Epoch 2/25\n",
      "249/250 [============================>.] - ETA: 0s - loss: 0.5900 - acc: 0.6831Epoch 1/25\n",
      "250/250 [==============================] - 105s 420ms/step - loss: 0.5900 - acc: 0.6831 - val_loss: 0.5675 - val_acc: 0.7100\n",
      "Epoch 3/25\n",
      "249/250 [============================>.] - ETA: 0s - loss: 0.5537 - acc: 0.7080Epoch 1/25\n",
      "250/250 [==============================] - 105s 421ms/step - loss: 0.5534 - acc: 0.7084 - val_loss: 0.5343 - val_acc: 0.7360\n",
      "Epoch 4/25\n",
      "249/250 [============================>.] - ETA: 0s - loss: 0.5226 - acc: 0.7322Epoch 1/25\n",
      "250/250 [==============================] - 106s 425ms/step - loss: 0.5225 - acc: 0.7321 - val_loss: 0.5287 - val_acc: 0.7430\n",
      "Epoch 5/25\n",
      "249/250 [============================>.] - ETA: 0s - loss: 0.4930 - acc: 0.7578Epoch 1/25\n",
      "250/250 [==============================] - 104s 417ms/step - loss: 0.4930 - acc: 0.7577 - val_loss: 0.5017 - val_acc: 0.7535\n",
      "Epoch 6/25\n",
      "249/250 [============================>.] - ETA: 0s - loss: 0.4673 - acc: 0.7787Epoch 1/25\n",
      "250/250 [==============================] - 105s 419ms/step - loss: 0.4677 - acc: 0.7781 - val_loss: 0.4706 - val_acc: 0.7765\n",
      "Epoch 7/25\n",
      "249/250 [============================>.] - ETA: 0s - loss: 0.4552 - acc: 0.7804Epoch 1/25\n",
      "250/250 [==============================] - 105s 420ms/step - loss: 0.4549 - acc: 0.7803 - val_loss: 0.4523 - val_acc: 0.7900\n",
      "Epoch 8/25\n",
      "249/250 [============================>.] - ETA: 0s - loss: 0.4342 - acc: 0.7956Epoch 1/25\n",
      "250/250 [==============================] - 105s 421ms/step - loss: 0.4345 - acc: 0.7955 - val_loss: 0.4607 - val_acc: 0.7800\n",
      "Epoch 9/25\n",
      "249/250 [============================>.] - ETA: 0s - loss: 0.4165 - acc: 0.8080Epoch 1/25\n",
      "250/250 [==============================] - 107s 429ms/step - loss: 0.4165 - acc: 0.8084 - val_loss: 0.4566 - val_acc: 0.7930\n",
      "Epoch 10/25\n",
      "249/250 [============================>.] - ETA: 0s - loss: 0.4066 - acc: 0.8112Epoch 1/25\n",
      "250/250 [==============================] - 107s 429ms/step - loss: 0.4071 - acc: 0.8111 - val_loss: 0.4814 - val_acc: 0.7795\n",
      "Epoch 11/25\n",
      "249/250 [============================>.] - ETA: 0s - loss: 0.3947 - acc: 0.8199Epoch 1/25\n",
      "250/250 [==============================] - 105s 421ms/step - loss: 0.3949 - acc: 0.8199 - val_loss: 0.4457 - val_acc: 0.7945\n",
      "Epoch 12/25\n",
      "249/250 [============================>.] - ETA: 0s - loss: 0.3769 - acc: 0.8296Epoch 1/25\n",
      "250/250 [==============================] - 102s 407ms/step - loss: 0.3774 - acc: 0.8294 - val_loss: 0.4439 - val_acc: 0.8020\n",
      "Epoch 13/25\n",
      "249/250 [============================>.] - ETA: 0s - loss: 0.3573 - acc: 0.8436Epoch 1/25\n",
      "250/250 [==============================] - 102s 409ms/step - loss: 0.3569 - acc: 0.8436 - val_loss: 0.4386 - val_acc: 0.8010\n",
      "Epoch 14/25\n",
      "249/250 [============================>.] - ETA: 0s - loss: 0.3460 - acc: 0.8459Epoch 1/25\n",
      "250/250 [==============================] - 102s 408ms/step - loss: 0.3468 - acc: 0.8456 - val_loss: 0.4272 - val_acc: 0.8190\n",
      "Epoch 15/25\n",
      "249/250 [============================>.] - ETA: 0s - loss: 0.3357 - acc: 0.8519Epoch 1/25\n",
      "250/250 [==============================] - 102s 408ms/step - loss: 0.3362 - acc: 0.8515 - val_loss: 0.4683 - val_acc: 0.7880\n",
      "Epoch 16/25\n",
      "249/250 [============================>.] - ETA: 0s - loss: 0.3180 - acc: 0.8614Epoch 1/25\n",
      "250/250 [==============================] - 104s 416ms/step - loss: 0.3179 - acc: 0.8616 - val_loss: 0.4809 - val_acc: 0.8015\n",
      "Epoch 17/25\n",
      "249/250 [============================>.] - ETA: 0s - loss: 0.3140 - acc: 0.8632Epoch 1/25\n",
      "250/250 [==============================] - 106s 423ms/step - loss: 0.3139 - acc: 0.8634 - val_loss: 0.4696 - val_acc: 0.7995\n",
      "Epoch 18/25\n",
      "249/250 [============================>.] - ETA: 0s - loss: 0.2903 - acc: 0.8753Epoch 1/25\n",
      "250/250 [==============================] - 106s 425ms/step - loss: 0.2899 - acc: 0.8756 - val_loss: 0.4524 - val_acc: 0.8065\n",
      "Epoch 19/25\n",
      "249/250 [============================>.] - ETA: 0s - loss: 0.2744 - acc: 0.8822Epoch 1/25\n",
      "250/250 [==============================] - 105s 419ms/step - loss: 0.2745 - acc: 0.8820 - val_loss: 0.4919 - val_acc: 0.8080\n",
      "Epoch 20/25\n",
      "249/250 [============================>.] - ETA: 0s - loss: 0.2688 - acc: 0.8868Epoch 1/25\n",
      "250/250 [==============================] - 109s 436ms/step - loss: 0.2691 - acc: 0.8865 - val_loss: 0.4747 - val_acc: 0.8080\n",
      "Epoch 21/25\n",
      "249/250 [============================>.] - ETA: 0s - loss: 0.2642 - acc: 0.8889Epoch 1/25\n",
      "250/250 [==============================] - 108s 432ms/step - loss: 0.2642 - acc: 0.8891 - val_loss: 0.4608 - val_acc: 0.8045\n",
      "Epoch 22/25\n",
      "249/250 [============================>.] - ETA: 0s - loss: 0.2406 - acc: 0.9000Epoch 1/25\n",
      "250/250 [==============================] - 109s 435ms/step - loss: 0.2403 - acc: 0.9001 - val_loss: 0.5244 - val_acc: 0.7910\n",
      "Epoch 23/25\n",
      "249/250 [============================>.] - ETA: 0s - loss: 0.2296 - acc: 0.9061Epoch 1/25\n",
      "250/250 [==============================] - 106s 423ms/step - loss: 0.2298 - acc: 0.9059 - val_loss: 0.5009 - val_acc: 0.8125\n",
      "Epoch 24/25\n",
      "249/250 [============================>.] - ETA: 0s - loss: 0.2152 - acc: 0.9090Epoch 1/25\n",
      "250/250 [==============================] - 105s 421ms/step - loss: 0.2154 - acc: 0.9089 - val_loss: 0.6221 - val_acc: 0.7720\n",
      "Epoch 25/25\n",
      "249/250 [============================>.] - ETA: 0s - loss: 0.2018 - acc: 0.9169Epoch 1/25\n",
      "250/250 [==============================] - 110s 439ms/step - loss: 0.2024 - acc: 0.9166 - val_loss: 0.5709 - val_acc: 0.7895\n"
     ]
    },
    {
     "data": {
      "text/plain": [
       "<tensorflow.python.keras.callbacks.History at 0x1b2772bf5f8>"
      ]
     },
     "execution_count": 15,
     "metadata": {},
     "output_type": "execute_result"
    }
   ],
   "source": [
    "# In fit method we  give different parameters i.e train_set and test_set for validating and epochs.\n",
    "cnn.fit(x=train_set, validation_data=test_set, epochs= 25)"
   ]
  },
  {
   "cell_type": "markdown",
   "metadata": {},
   "source": [
    "## Part-4 Making a single prediction."
   ]
  },
  {
   "cell_type": "code",
   "execution_count": 16,
   "metadata": {},
   "outputs": [
    {
     "data": {
      "image/png": "[encoded data removed]",
      "text/plain": [
       "<PIL.Image.Image image mode=RGB size=64x64 at 0x1B277BFAEF0>"
      ]
     },
     "execution_count": 16,
     "metadata": {},
     "output_type": "execute_result"
    }
   ],
   "source": [
    "# Deploying our CNN on each of these single images & Deploying CNN in Production on a single observation.\n",
    "\n",
    "from keras.preprocessing import image \n",
    "\n",
    "# To load image as a variable.\n",
    "\n",
    "test_image= image.load_img('cat_or_dog_1.jpg', target_size=(64,64))\n",
    "# target_size should be same as used in training_set.\n",
    "test_image"
   ]
  },
  {
   "cell_type": "code",
   "execution_count": 17,
   "metadata": {},
   "outputs": [
    {
     "data": {
      "text/plain": [
       "array([[[ 54.,  58.,   7.],\n",
       "        [ 58.,  63.,   9.],\n",
       "        [ 64.,  67.,  10.],\n",
       "        ...,\n",
       "        [136., 144.,  71.],\n",
       "        [140., 150.,  77.],\n",
       "        [139., 149.,  78.]],\n",
       "\n",
       "       [[ 48.,  54.,   6.],\n",
       "        [ 51.,  58.,   7.],\n",
       "        [ 58.,  63.,   9.],\n",
       "        ...,\n",
       "        [129., 137.,  64.],\n",
       "        [139., 149.,  78.],\n",
       "        [141., 151.,  80.]],\n",
       "\n",
       "       [[ 48.,  56.,   7.],\n",
       "        [ 48.,  56.,   7.],\n",
       "        [ 54.,  61.,  10.],\n",
       "        ...,\n",
       "        [123., 130.,  63.],\n",
       "        [136., 145.,  80.],\n",
       "        [140., 149.,  82.]],\n",
       "\n",
       "       ...,\n",
       "\n",
       "       [[ 46.,  55.,  12.],\n",
       "        [ 42.,  50.,   9.],\n",
       "        [ 38.,  49.,   9.],\n",
       "        ...,\n",
       "        [239., 205., 170.],\n",
       "        [235., 209., 186.],\n",
       "        [229., 202., 173.]],\n",
       "\n",
       "       [[ 50.,  57.,  15.],\n",
       "        [ 42.,  50.,   9.],\n",
       "        [ 44.,  52.,  11.],\n",
       "        ...,\n",
       "        [234., 200., 162.],\n",
       "        [236., 206., 178.],\n",
       "        [234., 203., 174.]],\n",
       "\n",
       "       [[ 53.,  59.,  13.],\n",
       "        [ 43.,  51.,  10.],\n",
       "        [ 49.,  56.,  12.],\n",
       "        ...,\n",
       "        [231., 195., 159.],\n",
       "        [235., 213., 190.],\n",
       "        [233., 206., 179.]]], dtype=float32)"
      ]
     },
     "execution_count": 17,
     "metadata": {},
     "output_type": "execute_result"
    }
   ],
   "source": [
    "# Converting PIL image format into an 2-d array.Because predict method uses input as an array.\n",
    "test_image=image.img_to_array(test_image)\n",
    "test_image"
   ]
  },
  {
   "cell_type": "code",
   "execution_count": 18,
   "metadata": {},
   "outputs": [
    {
     "data": {
      "text/plain": [
       "array([[[[ 54.,  58.,   7.],\n",
       "         [ 58.,  63.,   9.],\n",
       "         [ 64.,  67.,  10.],\n",
       "         ...,\n",
       "         [136., 144.,  71.],\n",
       "         [140., 150.,  77.],\n",
       "         [139., 149.,  78.]],\n",
       "\n",
       "        [[ 48.,  54.,   6.],\n",
       "         [ 51.,  58.,   7.],\n",
       "         [ 58.,  63.,   9.],\n",
       "         ...,\n",
       "         [129., 137.,  64.],\n",
       "         [139., 149.,  78.],\n",
       "         [141., 151.,  80.]],\n",
       "\n",
       "        [[ 48.,  56.,   7.],\n",
       "         [ 48.,  56.,   7.],\n",
       "         [ 54.,  61.,  10.],\n",
       "         ...,\n",
       "         [123., 130.,  63.],\n",
       "         [136., 145.,  80.],\n",
       "         [140., 149.,  82.]],\n",
       "\n",
       "        ...,\n",
       "\n",
       "        [[ 46.,  55.,  12.],\n",
       "         [ 42.,  50.,   9.],\n",
       "         [ 38.,  49.,   9.],\n",
       "         ...,\n",
       "         [239., 205., 170.],\n",
       "         [235., 209., 186.],\n",
       "         [229., 202., 173.]],\n",
       "\n",
       "        [[ 50.,  57.,  15.],\n",
       "         [ 42.,  50.,   9.],\n",
       "         [ 44.,  52.,  11.],\n",
       "         ...,\n",
       "         [234., 200., 162.],\n",
       "         [236., 206., 178.],\n",
       "         [234., 203., 174.]],\n",
       "\n",
       "        [[ 53.,  59.,  13.],\n",
       "         [ 43.,  51.,  10.],\n",
       "         [ 49.,  56.,  12.],\n",
       "         ...,\n",
       "         [231., 195., 159.],\n",
       "         [235., 213., 190.],\n",
       "         [233., 206., 179.]]]], dtype=float32)"
      ]
     },
     "execution_count": 18,
     "metadata": {},
     "output_type": "execute_result"
    }
   ],
   "source": [
    "# Adding extra dimension.\n",
    "# Since our images are trained in batches of images. Hence we need to add an extra dimension using numpy array.\n",
    "test_image=np.expand_dims(test_image, axis=0)\n",
    "# axis=0(where we are adding), Because we are adding our dimension of the batch adding to our image will be first dimension.\n",
    "test_image"
   ]
  },
  {
   "cell_type": "code",
   "execution_count": 19,
   "metadata": {},
   "outputs": [
    {
     "name": "stdout",
     "output_type": "stream",
     "text": [
      "DOG\n"
     ]
    }
   ],
   "source": [
    "result= cnn.predict(test_image)\n",
    "# This predict gives 0 or 1 as output, but we need in form of 'Cat' or 'Dog'\n",
    "\n",
    "train_set.class_indices\n",
    "# Using class_indices attribute, it figures out to classify what is 0 and what is 1 respectively.  \n",
    "\n",
    "# 1 is Dog and 0 is Cat\n",
    "if result[0][0] ==1:#[0] is batch and [0] is first element of the batch \n",
    "    prediction='DOG'\n",
    "else:\n",
    "    prediction='CAT'\n",
    "\n",
    "print(prediction)"
   ]
  },
  {
   "cell_type": "code",
   "execution_count": 20,
   "metadata": {},
   "outputs": [
    {
     "name": "stdout",
     "output_type": "stream",
     "text": [
      "DOG\n"
     ]
    }
   ],
   "source": [
    "print(prediction)"
   ]
  },
  {
   "cell_type": "markdown",
   "metadata": {},
   "source": [
    "### Testing External Data."
   ]
  },
  {
   "cell_type": "code",
   "execution_count": 21,
   "metadata": {},
   "outputs": [
    {
     "data": {
      "image/png": "[encoded data removed]",
      "text/plain": [
       "<PIL.Image.Image image mode=RGB size=64x64 at 0x1B2772BF128>"
      ]
     },
     "execution_count": 21,
     "metadata": {},
     "output_type": "execute_result"
    }
   ],
   "source": [
    "from keras.preprocessing import image \n",
    "\n",
    "test_image= image.load_img('cat.4014.jpg', target_size=(64,64))\n",
    "test_image"
   ]
  },
  {
   "cell_type": "code",
   "execution_count": 22,
   "metadata": {},
   "outputs": [
    {
     "name": "stdout",
     "output_type": "stream",
     "text": [
      "CAT\n"
     ]
    }
   ],
   "source": [
    "test_image=image.img_to_array(test_image)\n",
    "\n",
    "# Adding extra dimension.\n",
    "test_image=np.expand_dims(test_image, axis=0)\n",
    "\n",
    "result= cnn.predict(test_image)\n",
    "\n",
    "train_set.class_indices\n",
    "\n",
    "# 1 is Dog and 0 is Cat\n",
    "if result[0][0] ==1:\n",
    "    prediction='DOG'\n",
    "else:\n",
    "    prediction='CAT'\n",
    "\n",
    "print(prediction)"
   ]
  }
 ],
 "metadata": {
  "kernelspec": {
   "display_name": "Python 3",
   "language": "python",
   "name": "python3"
  },
  "language_info": {
   "codemirror_mode": {
    "name": "ipython",
    "version": 3
   },
   "file_extension": ".py",
   "mimetype": "text/x-python",
   "name": "python",
   "nbconvert_exporter": "python",
   "pygments_lexer": "ipython3",
   "version": "3.6.5"
  }
 },
 "nbformat": 4,
 "nbformat_minor": 2
}
